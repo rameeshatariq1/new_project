{
 "cells": [
  {
   "cell_type": "markdown",
   "id": "5da14238",
   "metadata": {},
   "source": [
    "# **_Mobile Price Prediction Project (ML)_**\n"
   ]
  },
  {
   "cell_type": "markdown",
   "id": "8bc423a3",
   "metadata": {},
   "source": [
    "## **_Loading Essential Libraries_**\n",
    "*_To begin our machine learning project, we bring in a set of crucial Python libraries. These tools simplify data handling, visualization, model creation, and evaluation tasks._*\n",
    "\n",
    "### **_1. NumPy_**\n",
    "*_This library is the backbone of numerical computing in Python. It offers powerful support for multi-dimensional arrays and a wide range of mathematical operations._*\n",
    "\n",
    "### **_2. Pandas_**\n",
    "*_Ideal for data analysis, Pandas makes it easy to load, explore, and manipulate structured data using DataFrames and Series._*\n",
    "\n",
    "### **_3. Matplotlib_**\n",
    "*_A versatile plotting library that enables us to build basic charts like bar graphs, line plots, and histograms to visualize trends and distributions._*\n",
    "\n",
    "### **_4. Seaborn_**\n",
    "*_Built on top of Matplotlib, Seaborn enhances visualizations by providing more appealing and informative statistical plots._*\n",
    "\n",
    "### **_5. Scikit-learn (sklearn)_**\n",
    " *_A comprehensive machine learning framework offering:_*\n",
    "\n",
    "- *_Tools for data preparation (e.g., scaling, train-test split)_*\n",
    "\n",
    "- *_A range of algorithms for classification and regression_*\n",
    "\n",
    "- *_Model performance evaluation metrics like accuracy scores and confusion matrices_*\n",
    "\n",
    "### **_Warnings_**\n",
    "*_Helps filter out non-critical warning messages to maintain a clean and readable output during code execution._*"
   ]
  },
  {
   "cell_type": "code",
   "execution_count": 92,
   "id": "3517d8db",
   "metadata": {},
   "outputs": [],
   "source": [
    "'''Numerical and data manipulation'''\n",
    "import numpy as np\n",
    "import pandas as pd\n",
    "\n",
    "'''Visualization libraries'''\n",
    "import matplotlib.pyplot as plt\n",
    "import seaborn as sns\n",
    "\n",
    "'''Machine Learning tools from sklearn'''\n",
    "from sklearn.model_selection import train_test_split\n",
    "from sklearn.preprocessing import StandardScaler\n",
    "from sklearn.linear_model import LogisticRegression\n",
    "from sklearn.metrics import accuracy_score, confusion_matrix, classification_report\n",
    "from sklearn.metrics import mean_squared_error, r2_score\n",
    "'''For saving and loading models'''\n",
    "import pickle\n",
    "\n",
    "'''Ignore warnings for clean output'''\n",
    "import warnings\n",
    "warnings.filterwarnings('ignore')\n"
   ]
  },
  {
   "cell_type": "markdown",
   "id": "401505f1",
   "metadata": {},
   "source": [
    "## **_Data Loading & Initial Exploration_**\n",
    "*_We define a class named `DataLoader` to manage the import and initial inspection of the Mobile Price Prediction dataset. It handles:_*\n",
    "\n",
    "- *_`show_head()` → Displays the first few records*_\n",
    "\n",
    "- *_`show_tail()` → Displays the last few records_*\n",
    "\n",
    "- *_`random_sample()` → Shows a random subset of rows_*\n",
    "\n",
    "- *_`summary_stats()` → Gives descriptive statistics_*\n",
    "\n",
    "- *_`structure_info()` → Displays column data types and missing value counts_*\n",
    "\n",
    "*_This makes it easier to explore the dataset before deeper analysis._*"
   ]
  },
  {
   "cell_type": "code",
   "execution_count": 93,
   "id": "465f3339",
   "metadata": {},
   "outputs": [],
   "source": [
    "pd.set_option('display.width', 1000)\n",
    "\n",
    "\n",
    "class DataLoader:\n",
    "    def __init__(self, file_path):\n",
    "        \"\"\"\n",
    "        Initializes the DataLoader with file path\n",
    "        Loads data into self.df\n",
    "        \"\"\"\n",
    "        self.file_path = file_path\n",
    "        self.df = None\n",
    "\n",
    "    def load_data(self):\n",
    "        try:\n",
    "            self.df = pd.read_csv(self.file_path)\n",
    "            return \"Data loaded successfully.\"\n",
    "        except Exception as e:\n",
    "            print(f\"Error loading data: {e}\")\n",
    "\n",
    "    def show_head(self):\n",
    "        \"\"\"Returns the first 5 rows of the dataset\"\"\"\n",
    "        print(\"\\nHead of the dataset:\")\n",
    "        return self.df.head()\n",
    "\n",
    "    def show_tail(self):\n",
    "        \"\"\"Returns the last 5 rows of the dataset\"\"\"\n",
    "        print(\"\\nTail of the dataset:\")\n",
    "        return self.df.tail()\n",
    "\n",
    "    def show_sample(self):\n",
    "        \"\"\"Returns a random sample of n rows\"\"\"\n",
    "        print(\"\\nRandom sample of the dataset:\")\n",
    "        return self.df.sample(5)\n",
    "\n",
    "    def show_description(self):\n",
    "        \"\"\"Returns statistical description of the dataset\"\"\"\n",
    "        print(\"\\nStatistical summary:\")\n",
    "        return self.df.describe()\n",
    "\n",
    "    def show_info(self):\n",
    "        \"\"\"Prints information about the dataset\"\"\"\n",
    "        print(\"\\nDataset information:\")\n",
    "        return self.df.info()\n"
   ]
  },
  {
   "cell_type": "code",
   "execution_count": 94,
   "id": "a722d245",
   "metadata": {},
   "outputs": [
    {
     "name": "stdout",
     "output_type": "stream",
     "text": [
      "\n",
      "Head of the dataset:\n"
     ]
    },
    {
     "data": {
      "text/html": [
       "<div>\n",
       "<style scoped>\n",
       "    .dataframe tbody tr th:only-of-type {\n",
       "        vertical-align: middle;\n",
       "    }\n",
       "\n",
       "    .dataframe tbody tr th {\n",
       "        vertical-align: top;\n",
       "    }\n",
       "\n",
       "    .dataframe thead th {\n",
       "        text-align: right;\n",
       "    }\n",
       "</style>\n",
       "<table border=\"1\" class=\"dataframe\">\n",
       "  <thead>\n",
       "    <tr style=\"text-align: right;\">\n",
       "      <th></th>\n",
       "      <th>Ratings</th>\n",
       "      <th>RAM</th>\n",
       "      <th>ROM</th>\n",
       "      <th>Mobile_Size</th>\n",
       "      <th>Primary_Cam</th>\n",
       "      <th>Selfi_Cam</th>\n",
       "      <th>Battery_Power</th>\n",
       "      <th>Price</th>\n",
       "    </tr>\n",
       "  </thead>\n",
       "  <tbody>\n",
       "    <tr>\n",
       "      <th>0</th>\n",
       "      <td>4.3</td>\n",
       "      <td>4.0</td>\n",
       "      <td>128.0</td>\n",
       "      <td>6.00</td>\n",
       "      <td>48</td>\n",
       "      <td>13.0</td>\n",
       "      <td>4000</td>\n",
       "      <td>24999</td>\n",
       "    </tr>\n",
       "    <tr>\n",
       "      <th>1</th>\n",
       "      <td>3.4</td>\n",
       "      <td>6.0</td>\n",
       "      <td>64.0</td>\n",
       "      <td>4.50</td>\n",
       "      <td>48</td>\n",
       "      <td>12.0</td>\n",
       "      <td>4000</td>\n",
       "      <td>15999</td>\n",
       "    </tr>\n",
       "    <tr>\n",
       "      <th>2</th>\n",
       "      <td>4.3</td>\n",
       "      <td>4.0</td>\n",
       "      <td>4.0</td>\n",
       "      <td>4.50</td>\n",
       "      <td>64</td>\n",
       "      <td>16.0</td>\n",
       "      <td>4000</td>\n",
       "      <td>15000</td>\n",
       "    </tr>\n",
       "    <tr>\n",
       "      <th>3</th>\n",
       "      <td>4.4</td>\n",
       "      <td>6.0</td>\n",
       "      <td>64.0</td>\n",
       "      <td>6.40</td>\n",
       "      <td>48</td>\n",
       "      <td>15.0</td>\n",
       "      <td>3800</td>\n",
       "      <td>18999</td>\n",
       "    </tr>\n",
       "    <tr>\n",
       "      <th>4</th>\n",
       "      <td>4.5</td>\n",
       "      <td>6.0</td>\n",
       "      <td>128.0</td>\n",
       "      <td>6.18</td>\n",
       "      <td>35</td>\n",
       "      <td>15.0</td>\n",
       "      <td>3800</td>\n",
       "      <td>18999</td>\n",
       "    </tr>\n",
       "  </tbody>\n",
       "</table>\n",
       "</div>"
      ],
      "text/plain": [
       "   Ratings  RAM    ROM  Mobile_Size  Primary_Cam  Selfi_Cam  Battery_Power  Price\n",
       "0      4.3  4.0  128.0         6.00           48       13.0           4000  24999\n",
       "1      3.4  6.0   64.0         4.50           48       12.0           4000  15999\n",
       "2      4.3  4.0    4.0         4.50           64       16.0           4000  15000\n",
       "3      4.4  6.0   64.0         6.40           48       15.0           3800  18999\n",
       "4      4.5  6.0  128.0         6.18           35       15.0           3800  18999"
      ]
     },
     "execution_count": 94,
     "metadata": {},
     "output_type": "execute_result"
    }
   ],
   "source": [
    "\"\"\"Initialize DataLoader Object with CSV File\"\"\"\n",
    "loader = DataLoader(\"mobile price prediction.csv\")\n",
    "loader.load_data()\n",
    "loader.show_head()"
   ]
  },
  {
   "cell_type": "code",
   "execution_count": 95,
   "id": "730b6237",
   "metadata": {},
   "outputs": [
    {
     "name": "stdout",
     "output_type": "stream",
     "text": [
      "\n",
      "Tail of the dataset:\n"
     ]
    },
    {
     "data": {
      "text/html": [
       "<div>\n",
       "<style scoped>\n",
       "    .dataframe tbody tr th:only-of-type {\n",
       "        vertical-align: middle;\n",
       "    }\n",
       "\n",
       "    .dataframe tbody tr th {\n",
       "        vertical-align: top;\n",
       "    }\n",
       "\n",
       "    .dataframe thead th {\n",
       "        text-align: right;\n",
       "    }\n",
       "</style>\n",
       "<table border=\"1\" class=\"dataframe\">\n",
       "  <thead>\n",
       "    <tr style=\"text-align: right;\">\n",
       "      <th></th>\n",
       "      <th>Ratings</th>\n",
       "      <th>RAM</th>\n",
       "      <th>ROM</th>\n",
       "      <th>Mobile_Size</th>\n",
       "      <th>Primary_Cam</th>\n",
       "      <th>Selfi_Cam</th>\n",
       "      <th>Battery_Power</th>\n",
       "      <th>Price</th>\n",
       "    </tr>\n",
       "  </thead>\n",
       "  <tbody>\n",
       "    <tr>\n",
       "      <th>802</th>\n",
       "      <td>3.8</td>\n",
       "      <td>6.0</td>\n",
       "      <td>32.0</td>\n",
       "      <td>4.54</td>\n",
       "      <td>48</td>\n",
       "      <td>12.0</td>\n",
       "      <td>2800</td>\n",
       "      <td>1299</td>\n",
       "    </tr>\n",
       "    <tr>\n",
       "      <th>803</th>\n",
       "      <td>4.1</td>\n",
       "      <td>8.0</td>\n",
       "      <td>64.0</td>\n",
       "      <td>4.54</td>\n",
       "      <td>64</td>\n",
       "      <td>8.0</td>\n",
       "      <td>2500</td>\n",
       "      <td>1390</td>\n",
       "    </tr>\n",
       "    <tr>\n",
       "      <th>804</th>\n",
       "      <td>4.4</td>\n",
       "      <td>3.0</td>\n",
       "      <td>32.0</td>\n",
       "      <td>6.20</td>\n",
       "      <td>48</td>\n",
       "      <td>1.0</td>\n",
       "      <td>3800</td>\n",
       "      <td>9790</td>\n",
       "    </tr>\n",
       "    <tr>\n",
       "      <th>805</th>\n",
       "      <td>3.7</td>\n",
       "      <td>10.0</td>\n",
       "      <td>32.0</td>\n",
       "      <td>4.50</td>\n",
       "      <td>64</td>\n",
       "      <td>8.0</td>\n",
       "      <td>3500</td>\n",
       "      <td>799</td>\n",
       "    </tr>\n",
       "    <tr>\n",
       "      <th>806</th>\n",
       "      <td>3.5</td>\n",
       "      <td>6.0</td>\n",
       "      <td>32.0</td>\n",
       "      <td>4.50</td>\n",
       "      <td>64</td>\n",
       "      <td>15.0</td>\n",
       "      <td>1050</td>\n",
       "      <td>799</td>\n",
       "    </tr>\n",
       "  </tbody>\n",
       "</table>\n",
       "</div>"
      ],
      "text/plain": [
       "     Ratings   RAM   ROM  Mobile_Size  Primary_Cam  Selfi_Cam  Battery_Power  Price\n",
       "802      3.8   6.0  32.0         4.54           48       12.0           2800   1299\n",
       "803      4.1   8.0  64.0         4.54           64        8.0           2500   1390\n",
       "804      4.4   3.0  32.0         6.20           48        1.0           3800   9790\n",
       "805      3.7  10.0  32.0         4.50           64        8.0           3500    799\n",
       "806      3.5   6.0  32.0         4.50           64       15.0           1050    799"
      ]
     },
     "execution_count": 95,
     "metadata": {},
     "output_type": "execute_result"
    }
   ],
   "source": [
    "loader.show_tail()"
   ]
  },
  {
   "cell_type": "code",
   "execution_count": 96,
   "id": "22dc9efa",
   "metadata": {},
   "outputs": [
    {
     "name": "stdout",
     "output_type": "stream",
     "text": [
      "\n",
      "Random sample of the dataset:\n"
     ]
    },
    {
     "data": {
      "text/html": [
       "<div>\n",
       "<style scoped>\n",
       "    .dataframe tbody tr th:only-of-type {\n",
       "        vertical-align: middle;\n",
       "    }\n",
       "\n",
       "    .dataframe tbody tr th {\n",
       "        vertical-align: top;\n",
       "    }\n",
       "\n",
       "    .dataframe thead th {\n",
       "        text-align: right;\n",
       "    }\n",
       "</style>\n",
       "<table border=\"1\" class=\"dataframe\">\n",
       "  <thead>\n",
       "    <tr style=\"text-align: right;\">\n",
       "      <th></th>\n",
       "      <th>Ratings</th>\n",
       "      <th>RAM</th>\n",
       "      <th>ROM</th>\n",
       "      <th>Mobile_Size</th>\n",
       "      <th>Primary_Cam</th>\n",
       "      <th>Selfi_Cam</th>\n",
       "      <th>Battery_Power</th>\n",
       "      <th>Price</th>\n",
       "    </tr>\n",
       "  </thead>\n",
       "  <tbody>\n",
       "    <tr>\n",
       "      <th>11</th>\n",
       "      <td>3.8</td>\n",
       "      <td>6.0</td>\n",
       "      <td>32.0</td>\n",
       "      <td>4.50</td>\n",
       "      <td>64</td>\n",
       "      <td>8.0</td>\n",
       "      <td>1050</td>\n",
       "      <td>1299</td>\n",
       "    </tr>\n",
       "    <tr>\n",
       "      <th>68</th>\n",
       "      <td>3.6</td>\n",
       "      <td>1.0</td>\n",
       "      <td>32.0</td>\n",
       "      <td>4.50</td>\n",
       "      <td>48</td>\n",
       "      <td>10.0</td>\n",
       "      <td>3500</td>\n",
       "      <td>799</td>\n",
       "    </tr>\n",
       "    <tr>\n",
       "      <th>153</th>\n",
       "      <td>3.9</td>\n",
       "      <td>6.0</td>\n",
       "      <td>32.0</td>\n",
       "      <td>4.50</td>\n",
       "      <td>48</td>\n",
       "      <td>8.0</td>\n",
       "      <td>1750</td>\n",
       "      <td>999</td>\n",
       "    </tr>\n",
       "    <tr>\n",
       "      <th>751</th>\n",
       "      <td>4.2</td>\n",
       "      <td>4.0</td>\n",
       "      <td>64.0</td>\n",
       "      <td>4.50</td>\n",
       "      <td>64</td>\n",
       "      <td>8.0</td>\n",
       "      <td>3000</td>\n",
       "      <td>1099</td>\n",
       "    </tr>\n",
       "    <tr>\n",
       "      <th>490</th>\n",
       "      <td>3.9</td>\n",
       "      <td>6.0</td>\n",
       "      <td>64.0</td>\n",
       "      <td>4.54</td>\n",
       "      <td>48</td>\n",
       "      <td>8.0</td>\n",
       "      <td>3600</td>\n",
       "      <td>1799</td>\n",
       "    </tr>\n",
       "  </tbody>\n",
       "</table>\n",
       "</div>"
      ],
      "text/plain": [
       "     Ratings  RAM   ROM  Mobile_Size  Primary_Cam  Selfi_Cam  Battery_Power  Price\n",
       "11       3.8  6.0  32.0         4.50           64        8.0           1050   1299\n",
       "68       3.6  1.0  32.0         4.50           48       10.0           3500    799\n",
       "153      3.9  6.0  32.0         4.50           48        8.0           1750    999\n",
       "751      4.2  4.0  64.0         4.50           64        8.0           3000   1099\n",
       "490      3.9  6.0  64.0         4.54           48        8.0           3600   1799"
      ]
     },
     "execution_count": 96,
     "metadata": {},
     "output_type": "execute_result"
    }
   ],
   "source": [
    "loader.show_sample()"
   ]
  },
  {
   "cell_type": "code",
   "execution_count": 97,
   "id": "98939e49",
   "metadata": {},
   "outputs": [
    {
     "name": "stdout",
     "output_type": "stream",
     "text": [
      "\n",
      "Statistical summary:\n"
     ]
    },
    {
     "data": {
      "text/html": [
       "<div>\n",
       "<style scoped>\n",
       "    .dataframe tbody tr th:only-of-type {\n",
       "        vertical-align: middle;\n",
       "    }\n",
       "\n",
       "    .dataframe tbody tr th {\n",
       "        vertical-align: top;\n",
       "    }\n",
       "\n",
       "    .dataframe thead th {\n",
       "        text-align: right;\n",
       "    }\n",
       "</style>\n",
       "<table border=\"1\" class=\"dataframe\">\n",
       "  <thead>\n",
       "    <tr style=\"text-align: right;\">\n",
       "      <th></th>\n",
       "      <th>Ratings</th>\n",
       "      <th>RAM</th>\n",
       "      <th>ROM</th>\n",
       "      <th>Mobile_Size</th>\n",
       "      <th>Primary_Cam</th>\n",
       "      <th>Selfi_Cam</th>\n",
       "      <th>Battery_Power</th>\n",
       "      <th>Price</th>\n",
       "    </tr>\n",
       "  </thead>\n",
       "  <tbody>\n",
       "    <tr>\n",
       "      <th>count</th>\n",
       "      <td>807.000000</td>\n",
       "      <td>807.000000</td>\n",
       "      <td>807.000000</td>\n",
       "      <td>807.000000</td>\n",
       "      <td>807.000000</td>\n",
       "      <td>807.000000</td>\n",
       "      <td>807.000000</td>\n",
       "      <td>807.000000</td>\n",
       "    </tr>\n",
       "    <tr>\n",
       "      <th>mean</th>\n",
       "      <td>4.112639</td>\n",
       "      <td>5.941760</td>\n",
       "      <td>64.390335</td>\n",
       "      <td>5.620660</td>\n",
       "      <td>47.821561</td>\n",
       "      <td>8.868649</td>\n",
       "      <td>3278.859975</td>\n",
       "      <td>14269.167286</td>\n",
       "    </tr>\n",
       "    <tr>\n",
       "      <th>std</th>\n",
       "      <td>0.367830</td>\n",
       "      <td>2.056359</td>\n",
       "      <td>53.868626</td>\n",
       "      <td>3.957409</td>\n",
       "      <td>11.155916</td>\n",
       "      <td>4.547254</td>\n",
       "      <td>937.628801</td>\n",
       "      <td>23092.739983</td>\n",
       "    </tr>\n",
       "    <tr>\n",
       "      <th>min</th>\n",
       "      <td>2.800000</td>\n",
       "      <td>0.000000</td>\n",
       "      <td>2.000000</td>\n",
       "      <td>2.000000</td>\n",
       "      <td>5.000000</td>\n",
       "      <td>0.000000</td>\n",
       "      <td>1020.000000</td>\n",
       "      <td>479.000000</td>\n",
       "    </tr>\n",
       "    <tr>\n",
       "      <th>25%</th>\n",
       "      <td>3.900000</td>\n",
       "      <td>6.000000</td>\n",
       "      <td>32.000000</td>\n",
       "      <td>4.500000</td>\n",
       "      <td>48.000000</td>\n",
       "      <td>8.000000</td>\n",
       "      <td>3000.000000</td>\n",
       "      <td>984.000000</td>\n",
       "    </tr>\n",
       "    <tr>\n",
       "      <th>50%</th>\n",
       "      <td>4.100000</td>\n",
       "      <td>6.000000</td>\n",
       "      <td>32.000000</td>\n",
       "      <td>4.770000</td>\n",
       "      <td>48.000000</td>\n",
       "      <td>8.000000</td>\n",
       "      <td>3000.000000</td>\n",
       "      <td>1699.000000</td>\n",
       "    </tr>\n",
       "    <tr>\n",
       "      <th>75%</th>\n",
       "      <td>4.400000</td>\n",
       "      <td>6.000000</td>\n",
       "      <td>64.000000</td>\n",
       "      <td>6.300000</td>\n",
       "      <td>48.000000</td>\n",
       "      <td>12.000000</td>\n",
       "      <td>3800.000000</td>\n",
       "      <td>18994.500000</td>\n",
       "    </tr>\n",
       "    <tr>\n",
       "      <th>max</th>\n",
       "      <td>4.800000</td>\n",
       "      <td>12.000000</td>\n",
       "      <td>256.000000</td>\n",
       "      <td>44.000000</td>\n",
       "      <td>64.000000</td>\n",
       "      <td>23.000000</td>\n",
       "      <td>6000.000000</td>\n",
       "      <td>153000.000000</td>\n",
       "    </tr>\n",
       "  </tbody>\n",
       "</table>\n",
       "</div>"
      ],
      "text/plain": [
       "          Ratings         RAM         ROM  Mobile_Size  Primary_Cam   Selfi_Cam  Battery_Power          Price\n",
       "count  807.000000  807.000000  807.000000   807.000000   807.000000  807.000000     807.000000     807.000000\n",
       "mean     4.112639    5.941760   64.390335     5.620660    47.821561    8.868649    3278.859975   14269.167286\n",
       "std      0.367830    2.056359   53.868626     3.957409    11.155916    4.547254     937.628801   23092.739983\n",
       "min      2.800000    0.000000    2.000000     2.000000     5.000000    0.000000    1020.000000     479.000000\n",
       "25%      3.900000    6.000000   32.000000     4.500000    48.000000    8.000000    3000.000000     984.000000\n",
       "50%      4.100000    6.000000   32.000000     4.770000    48.000000    8.000000    3000.000000    1699.000000\n",
       "75%      4.400000    6.000000   64.000000     6.300000    48.000000   12.000000    3800.000000   18994.500000\n",
       "max      4.800000   12.000000  256.000000    44.000000    64.000000   23.000000    6000.000000  153000.000000"
      ]
     },
     "execution_count": 97,
     "metadata": {},
     "output_type": "execute_result"
    }
   ],
   "source": [
    "loader.show_description()"
   ]
  },
  {
   "cell_type": "code",
   "execution_count": 98,
   "id": "d6a09b67",
   "metadata": {},
   "outputs": [
    {
     "name": "stdout",
     "output_type": "stream",
     "text": [
      "\n",
      "Dataset information:\n",
      "<class 'pandas.core.frame.DataFrame'>\n",
      "RangeIndex: 807 entries, 0 to 806\n",
      "Data columns (total 8 columns):\n",
      " #   Column         Non-Null Count  Dtype  \n",
      "---  ------         --------------  -----  \n",
      " 0   Ratings        807 non-null    float64\n",
      " 1   RAM            807 non-null    float64\n",
      " 2   ROM            807 non-null    float64\n",
      " 3   Mobile_Size    807 non-null    float64\n",
      " 4   Primary_Cam    807 non-null    int64  \n",
      " 5   Selfi_Cam      807 non-null    float64\n",
      " 6   Battery_Power  807 non-null    int64  \n",
      " 7   Price          807 non-null    int64  \n",
      "dtypes: float64(5), int64(3)\n",
      "memory usage: 50.6 KB\n"
     ]
    }
   ],
   "source": [
    "loader.show_info()"
   ]
  },
  {
   "cell_type": "markdown",
   "id": "06af0b58",
   "metadata": {},
   "source": [
    "## **_Data Cleaning & Preprocessing_**\n",
    "*_To prepare the data for modeling, we create a class called PreprocessingManager that handles:_*\n",
    "### **_Key Tasks:_**\n",
    "**_1. Missing Value Treatment_**\n",
    "\n",
    "- *_Identifies any null values_*\n",
    "\n",
    "- *_Handles them via removal or imputation using strategies like mean or median_*\n",
    "\n",
    "**_2. Zero Value Checks (if applicable)**_\n",
    "\n",
    "- *_If certain features (like battery power or RAM) have invalid zero values, we treat them accordingly_*\n",
    "\n",
    "**_3. Renaming Columns for Simplicity_**\n",
    "\n",
    "- *_Converts long or complex column names to shorter versions for ease of use*\n",
    "\n",
    "\n",
    "`Mobile_Size` → 'mblSize'\n",
    "\n",
    "`Primary_Cam` → 'priCam'\n",
    "\n",
    "`Selfi_Cam` → 'selCam'\n",
    "\n",
    "`Battery_Power` → 'power'\n",
    "\n",
    "*_This class ensures the dataset is cleaned, consistent, and ready for model training._*"
   ]
  },
  {
   "cell_type": "code",
   "execution_count": 99,
   "id": "2d5efe1b",
   "metadata": {},
   "outputs": [],
   "source": [
    "class DataCleaner:\n",
    "    \"\"\"\n",
    "    Cleans and preprocesses the dataset:\n",
    "    - Removes duplicates\n",
    "    - Handles missing values\n",
    "    - Renames long column names\n",
    "    - Converts data types if needed\n",
    "    \"\"\"\n",
    "    def __init__(self, dataframe):\n",
    "        self.df = dataframe.copy()\n",
    "\n",
    "    def check_nulls(self):\n",
    "        print(\"\\nChecking for null values:\")\n",
    "        print(self.df.isnull().sum())\n",
    "\n",
    "    def replace_zeros(self):\n",
    "        print(\"\\nHandling zero values in selected columns...\")\n",
    "        \"\"\"\n",
    "        Columns where 0 is not a valid value\n",
    "        \"\"\"\n",
    "        cols_with_invalid_zeros = ['RAM','ROM','Mobile_Size','Primary_Cam','Selfi_Cam','Battery_Power']\n",
    "\n",
    "        for col in cols_with_invalid_zeros:\n",
    "            zero_count = (self.df[col] == 0).sum()\n",
    "            print(f\"Column '{col}' has {zero_count} zero values.\")\n",
    "            \"\"\"\n",
    "            Replace zeros with median of the column\n",
    "            \"\"\"\n",
    "            median_value = self.df[col].median()\n",
    "            self.df[col] = self.df[col].replace(0, median_value)\n",
    "            print(f\"Replaced zeros in '{col}' with median value: {median_value}\")\n",
    "\n",
    "    def rename_columns(self):\n",
    "        \"\"\"\n",
    "        Replaces complex names with simple names.\n",
    "        \"\"\"\n",
    "        print(\"\\nRenaming columns to simpler names...\")\n",
    "        renamed_columns = {\n",
    "            'Mobile_Size': 'mblSize',\n",
    "            'Primary_Cam': 'priCam',\n",
    "            'Selfi_Cam': 'selCam',\n",
    "            'Battery_Power': 'power',\n",
    "        }\n",
    "        self.df.rename(columns=renamed_columns, inplace=True)\n",
    "        print(\"Renamed columns successfully.\")\n",
    "\n",
    "    def get_clean_data(self):\n",
    "        return self.df\n"
   ]
  },
  {
   "cell_type": "code",
   "execution_count": 100,
   "id": "da791bf3",
   "metadata": {},
   "outputs": [
    {
     "name": "stdout",
     "output_type": "stream",
     "text": [
      "\n",
      "Checking for null values:\n",
      "Ratings          0\n",
      "RAM              0\n",
      "ROM              0\n",
      "Mobile_Size      0\n",
      "Primary_Cam      0\n",
      "Selfi_Cam        0\n",
      "Battery_Power    0\n",
      "Price            0\n",
      "dtype: int64\n",
      "\n",
      "Handling zero values in selected columns...\n",
      "Column 'RAM' has 2 zero values.\n",
      "Replaced zeros in 'RAM' with median value: 6.0\n",
      "Column 'ROM' has 0 zero values.\n",
      "Replaced zeros in 'ROM' with median value: 32.0\n",
      "Column 'Mobile_Size' has 0 zero values.\n",
      "Replaced zeros in 'Mobile_Size' with median value: 4.77\n",
      "Column 'Primary_Cam' has 0 zero values.\n",
      "Replaced zeros in 'Primary_Cam' with median value: 48.0\n",
      "Column 'Selfi_Cam' has 5 zero values.\n",
      "Replaced zeros in 'Selfi_Cam' with median value: 8.0\n",
      "Column 'Battery_Power' has 0 zero values.\n",
      "Replaced zeros in 'Battery_Power' with median value: 3000.0\n",
      "\n",
      "Renaming columns to simpler names...\n",
      "Renamed columns successfully.\n"
     ]
    }
   ],
   "source": [
    "\"\"\"\n",
    "Assuming df is already loaded\n",
    "\"\"\"\n",
    "loader = DataLoader(\"mobile price prediction.csv\")\n",
    "loader.load_data()\n",
    "df = loader.df\n",
    "cleaner = DataCleaner(df)\n",
    "cleaner.check_nulls()\n",
    "cleaner.replace_zeros()\n",
    "cleaner.rename_columns()\n",
    "\n",
    "\"\"\"Get the cleaned and updated dataframe\n",
    "\"\"\"\n",
    "cleaned_df = cleaner.get_clean_data()"
   ]
  },
  {
   "cell_type": "markdown",
   "id": "e000ff32",
   "metadata": {},
   "source": [
    "## **_Statistical Overview_**\n",
    "*_We define a class named StatisticalSummary to extract deeper insights from the data. It calculates:_*\n",
    "\n",
    "- *_Mean, Median, Mode_*\n",
    "\n",
    "- *_Minimum, Maximum_*\n",
    "\n",
    "- *_Count of non-null values_*\n",
    "\n",
    "- *_Standard Deviation and Variance_*\n",
    "\n",
    "*_These metrics help understand the scale and spread of different features—important for scaling, normalization, and model interpretation._*"
   ]
  },
  {
   "cell_type": "code",
   "execution_count": 101,
   "id": "daf40f99",
   "metadata": {},
   "outputs": [],
   "source": [
    "class StatisticalSummary:\n",
    "    \"\"\"\n",
    "    Parameters:\n",
    "        df: pd.DataFrame - cleaned dataset\n",
    "\n",
    "    Functionality:\n",
    "        - Calculates basic statistics for numeric columns\n",
    "\n",
    "    Returns:\n",
    "        - Dictionary of summary stats\n",
    "    \"\"\"\n",
    "    def __init__(self, dataframe):\n",
    "        self.df = dataframe.copy()\n",
    "\n",
    "    def show_mean(self):\n",
    "        print(\"\\nMean of each column:\")\n",
    "        return self.df.mean()\n",
    "\n",
    "    def show_median(self):\n",
    "        print(\"\\nMedian of each column:\")\n",
    "        return self.df.median()\n",
    "\n",
    "    def show_mode(self):\n",
    "        print(\"\\nMode of each column:\")\n",
    "        return self.df.mode().iloc[0]  # in case of multiple modes, show the first\n",
    "\n",
    "    def show_max(self):\n",
    "        print(\"\\nMaximum value in each column:\")\n",
    "        return self.df.max()\n",
    "\n",
    "    def show_min(self):\n",
    "        print(\"\\nMinimum value in each column:\")\n",
    "        return self.df.min()\n",
    "\n",
    "    def show_std(self):\n",
    "        print(\"\\nStandard Deviation of each column:\")\n",
    "        return self.df.std()\n",
    "\n",
    "    def show_variance(self):\n",
    "        print(\"\\nVariance of each column:\")\n",
    "        return self.df.var()\n",
    "\n",
    "    def show_count(self):\n",
    "        print(\"\\nCount of non-null values in each column:\")\n",
    "        return self.df.count()"
   ]
  },
  {
   "cell_type": "code",
   "execution_count": 102,
   "id": "95fb8a30",
   "metadata": {},
   "outputs": [
    {
     "name": "stdout",
     "output_type": "stream",
     "text": [
      "\n",
      "Mean of each column:\n"
     ]
    },
    {
     "data": {
      "text/plain": [
       "Ratings        4.112639\n",
       "RAM            5.956629\n",
       "ROM           64.390335\n",
       "mblSize        5.620660\n",
       "priCam        47.821561\n",
       "selCam         8.918216\n",
       "power       3278.859975\n",
       "Price      14269.167286\n",
       "dtype: float64"
      ]
     },
     "execution_count": 102,
     "metadata": {},
     "output_type": "execute_result"
    }
   ],
   "source": [
    "stats = StatisticalSummary(cleaned_df)\n",
    "stats.show_mean()"
   ]
  },
  {
   "cell_type": "code",
   "execution_count": 103,
   "id": "dfaa0ec0",
   "metadata": {},
   "outputs": [
    {
     "name": "stdout",
     "output_type": "stream",
     "text": [
      "\n",
      "Median of each column:\n"
     ]
    },
    {
     "data": {
      "text/plain": [
       "Ratings       4.10\n",
       "RAM           6.00\n",
       "ROM          32.00\n",
       "mblSize       4.77\n",
       "priCam       48.00\n",
       "selCam        8.00\n",
       "power      3000.00\n",
       "Price      1699.00\n",
       "dtype: float64"
      ]
     },
     "execution_count": 103,
     "metadata": {},
     "output_type": "execute_result"
    }
   ],
   "source": [
    "stats.show_median()"
   ]
  },
  {
   "cell_type": "code",
   "execution_count": 104,
   "id": "091a51ab",
   "metadata": {},
   "outputs": [
    {
     "name": "stdout",
     "output_type": "stream",
     "text": [
      "\n",
      "Mode of each column:\n"
     ]
    },
    {
     "data": {
      "text/plain": [
       "Ratings       4.5\n",
       "RAM           6.0\n",
       "ROM          32.0\n",
       "mblSize       4.5\n",
       "priCam       48.0\n",
       "selCam        8.0\n",
       "power      3000.0\n",
       "Price       649.0\n",
       "Name: 0, dtype: float64"
      ]
     },
     "execution_count": 104,
     "metadata": {},
     "output_type": "execute_result"
    }
   ],
   "source": [
    "stats.show_mode()"
   ]
  },
  {
   "cell_type": "code",
   "execution_count": 105,
   "id": "08c9913e",
   "metadata": {},
   "outputs": [
    {
     "name": "stdout",
     "output_type": "stream",
     "text": [
      "\n",
      "Maximum value in each column:\n"
     ]
    },
    {
     "data": {
      "text/plain": [
       "Ratings         4.8\n",
       "RAM            12.0\n",
       "ROM           256.0\n",
       "mblSize        44.0\n",
       "priCam         64.0\n",
       "selCam         23.0\n",
       "power        6000.0\n",
       "Price      153000.0\n",
       "dtype: float64"
      ]
     },
     "execution_count": 105,
     "metadata": {},
     "output_type": "execute_result"
    }
   ],
   "source": [
    "stats.show_max()"
   ]
  },
  {
   "cell_type": "code",
   "execution_count": 106,
   "id": "8ab201f3",
   "metadata": {},
   "outputs": [
    {
     "name": "stdout",
     "output_type": "stream",
     "text": [
      "\n",
      "Minimum value in each column:\n"
     ]
    },
    {
     "data": {
      "text/plain": [
       "Ratings       2.8\n",
       "RAM           1.0\n",
       "ROM           2.0\n",
       "mblSize       2.0\n",
       "priCam        5.0\n",
       "selCam        1.0\n",
       "power      1020.0\n",
       "Price       479.0\n",
       "dtype: float64"
      ]
     },
     "execution_count": 106,
     "metadata": {},
     "output_type": "execute_result"
    }
   ],
   "source": [
    "stats.show_min()"
   ]
  },
  {
   "cell_type": "code",
   "execution_count": 107,
   "id": "a1f129e4",
   "metadata": {},
   "outputs": [
    {
     "name": "stdout",
     "output_type": "stream",
     "text": [
      "\n",
      "Standard Deviation of each column:\n"
     ]
    },
    {
     "data": {
      "text/plain": [
       "Ratings        0.367830\n",
       "RAM            2.034895\n",
       "ROM           53.868626\n",
       "mblSize        3.957409\n",
       "priCam        11.155916\n",
       "selCam         4.493530\n",
       "power        937.628801\n",
       "Price      23092.739983\n",
       "dtype: float64"
      ]
     },
     "execution_count": 107,
     "metadata": {},
     "output_type": "execute_result"
    }
   ],
   "source": [
    "stats.show_std()"
   ]
  },
  {
   "cell_type": "code",
   "execution_count": 108,
   "id": "400e0aeb",
   "metadata": {},
   "outputs": [
    {
     "name": "stdout",
     "output_type": "stream",
     "text": [
      "\n",
      "Variance of each column:\n"
     ]
    },
    {
     "data": {
      "text/plain": [
       "Ratings    1.352991e-01\n",
       "RAM        4.140797e+00\n",
       "ROM        2.901829e+03\n",
       "mblSize    1.566108e+01\n",
       "priCam     1.244545e+02\n",
       "selCam     2.019181e+01\n",
       "power      8.791478e+05\n",
       "Price      5.332746e+08\n",
       "dtype: float64"
      ]
     },
     "execution_count": 108,
     "metadata": {},
     "output_type": "execute_result"
    }
   ],
   "source": [
    "stats.show_variance()"
   ]
  },
  {
   "cell_type": "code",
   "execution_count": 109,
   "id": "91b6a3bb",
   "metadata": {},
   "outputs": [
    {
     "name": "stdout",
     "output_type": "stream",
     "text": [
      "\n",
      "Count of non-null values in each column:\n"
     ]
    },
    {
     "data": {
      "text/plain": [
       "Ratings    807\n",
       "RAM        807\n",
       "ROM        807\n",
       "mblSize    807\n",
       "priCam     807\n",
       "selCam     807\n",
       "power      807\n",
       "Price      807\n",
       "dtype: int64"
      ]
     },
     "execution_count": 109,
     "metadata": {},
     "output_type": "execute_result"
    }
   ],
   "source": [
    "stats.show_count()"
   ]
  },
  {
   "cell_type": "markdown",
   "id": "13e328da",
   "metadata": {},
   "source": [
    "## **_Exploratory Data Analysis (EDA)_**\n",
    "*_EDA is split into two dedicated classes:_*\n",
    "\n",
    "### **_1. FeatureAnalyzer (Univariate Analysis)_**\n",
    "*_This class investigates each individual feature to understand:_*\n",
    "\n",
    "- *_Distribution_*\n",
    "\n",
    "- *_Unique values_*\n",
    "\n",
    "- *_Central tendency and variability_*\n",
    "\n",
    "- *_Frequency of categorical values (e.g., price_range)_*"
   ]
  },
  {
   "cell_type": "code",
   "execution_count": 110,
   "id": "9550c466",
   "metadata": {},
   "outputs": [],
   "source": [
    "class UnivariateAnalysis:\n",
    "    \"\"\"This class analyzes one variable at a time, showing distribution\n",
    "    through histograms and descriptive stats.\"\"\"\n",
    "    \n",
    "    def __init__(self, dataframe):\n",
    "        self.df = dataframe.copy()\n",
    "\n",
    "    def unique_counts(self, column):\n",
    "        print(f\"\\nUnique values in '{column}':\")\n",
    "        print(self.df[column].nunique())\n",
    "\n",
    "    def value_counts(self, column):\n",
    "        print(f\"\\nValue counts in '{column}':\")\n",
    "        print(self.df[column].value_counts())\n",
    "\n",
    "    def column_summary(self, column):\n",
    "        print(f\"\\nSummary statistics for '{column}':\")\n",
    "        print(self.df[column].describe())\n",
    "\n",
    "    def check_skewness(self, column):\n",
    "        print(f\"\\nSkewness of '{column}': {self.df[column].skew()}\")\n",
    "\n",
    "    def check_kurtosis(self, column):\n",
    "        print(f\"\\nKurtosis of '{column}': {self.df[column].kurt()}\")"
   ]
  },
  {
   "cell_type": "code",
   "execution_count": 111,
   "id": "78ce51cf",
   "metadata": {},
   "outputs": [
    {
     "name": "stdout",
     "output_type": "stream",
     "text": [
      "\n",
      "Unique values in 'RAM':\n",
      "9\n"
     ]
    }
   ],
   "source": [
    "uni = UnivariateAnalysis(cleaned_df)\n",
    "uni.unique_counts('RAM')"
   ]
  },
  {
   "cell_type": "code",
   "execution_count": 112,
   "id": "184ed431",
   "metadata": {},
   "outputs": [
    {
     "name": "stdout",
     "output_type": "stream",
     "text": [
      "\n",
      "Value counts in 'Ratings':\n",
      "Ratings\n",
      "4.5    135\n",
      "4.1     96\n",
      "4.4     91\n",
      "3.9     72\n",
      "4.3     66\n",
      "3.8     61\n",
      "4.2     55\n",
      "4.0     40\n",
      "3.7     36\n",
      "3.6     33\n",
      "3.5     32\n",
      "3.4     27\n",
      "4.6     25\n",
      "4.7     25\n",
      "3.0      4\n",
      "3.2      3\n",
      "3.3      2\n",
      "2.8      2\n",
      "4.8      1\n",
      "3.1      1\n",
      "Name: count, dtype: int64\n"
     ]
    }
   ],
   "source": [
    "uni.value_counts('Ratings')"
   ]
  },
  {
   "cell_type": "code",
   "execution_count": 113,
   "id": "dd8b986f",
   "metadata": {},
   "outputs": [
    {
     "name": "stdout",
     "output_type": "stream",
     "text": [
      "\n",
      "Summary statistics for 'ROM':\n",
      "count    807.000000\n",
      "mean      64.390335\n",
      "std       53.868626\n",
      "min        2.000000\n",
      "25%       32.000000\n",
      "50%       32.000000\n",
      "75%       64.000000\n",
      "max      256.000000\n",
      "Name: ROM, dtype: float64\n"
     ]
    }
   ],
   "source": [
    "uni.column_summary('ROM')"
   ]
  },
  {
   "cell_type": "code",
   "execution_count": 114,
   "id": "134050f1",
   "metadata": {},
   "outputs": [
    {
     "name": "stdout",
     "output_type": "stream",
     "text": [
      "\n",
      "Skewness of 'power': -0.24451161576939756\n"
     ]
    }
   ],
   "source": [
    "uni.check_skewness('power')"
   ]
  },
  {
   "cell_type": "code",
   "execution_count": 115,
   "id": "2802ac1d",
   "metadata": {},
   "outputs": [
    {
     "name": "stdout",
     "output_type": "stream",
     "text": [
      "\n",
      "Kurtosis of 'Price': 10.796041220913123\n"
     ]
    }
   ],
   "source": [
    "uni.check_kurtosis('Price')"
   ]
  },
  {
   "cell_type": "markdown",
   "id": "31c4ceba",
   "metadata": {},
   "source": [
    "## **_2. RelationshipAnalyzer (Bivariate Analysis)_**\n",
    "*_Analyzes how two features interact:_*\n",
    "\n",
    "- *_Correlation matrix_*\n",
    "\n",
    "- *_Group-wise summary stat_*\n",
    "\n",
    "- *_Cross-tabulation for categorical attributes_*\n",
    "\n",
    "- *_Pairwise scatter plots_*\n",
    "\n",
    "*_These insights help uncover patterns and relationships critical for model design._*\n",
    "\n"
   ]
  },
  {
   "cell_type": "code",
   "execution_count": 116,
   "id": "29bd0e83",
   "metadata": {},
   "outputs": [],
   "source": [
    "class BivariateAnalysis:\n",
    "    \"\"\"This class checks relationships between numeric variables\n",
    "    using scatter plots and correlation heatmap.\"\"\"\n",
    "    \n",
    "    def __init__(self, dataframe):\n",
    "        self.df = dataframe.copy()\n",
    "\n",
    "    def correlation_matrix(self):\n",
    "        print(\"\\nCorrelation matrix:\")\n",
    "        print(self.df.corr())\n",
    "\n",
    "    def covariance_matrix(self):\n",
    "        print(\"\\nCovariance matrix:\")\n",
    "        print(self.df.cov())\n",
    "\n",
    "    def group_mean_by_target(self, target_col):\n",
    "        print(f\"\\nMean of each feature grouped by '{target_col}':\")\n",
    "        print(self.df.groupby(target_col).mean())\n",
    "\n",
    "    def group_count_by_target(self, target_col):\n",
    "        print(f\"\\nCount of entries grouped by '{target_col}':\")\n",
    "        print(self.df.groupby(target_col).count())\n",
    "\n",
    "    def crosstab_two_columns(self, col1, col2):\n",
    "        print(f\"\\nCrosstab between '{col1}' and '{col2}':\")\n",
    "        print(pd.crosstab(self.df[col1], self.df[col2]))"
   ]
  },
  {
   "cell_type": "code",
   "execution_count": 117,
   "id": "59f9033a",
   "metadata": {},
   "outputs": [
    {
     "name": "stdout",
     "output_type": "stream",
     "text": [
      "\n",
      "Correlation matrix:\n",
      "          Ratings       RAM       ROM   mblSize    priCam    selCam     power     Price\n",
      "Ratings  1.000000  0.111294  0.424841  0.079125 -0.108266 -0.094254  0.448317  0.570777\n",
      "RAM      0.111294  1.000000  0.336086  0.006675  0.180944  0.198934  0.032715  0.297255\n",
      "ROM      0.424841  0.336086  1.000000  0.106085 -0.067326 -0.051359  0.412475  0.474928\n",
      "mblSize  0.079125  0.006675  0.106085  1.000000 -0.053856 -0.023962  0.131125  0.084689\n",
      "priCam  -0.108266  0.180944 -0.067326 -0.053856  1.000000  0.117493 -0.059803 -0.223997\n",
      "selCam  -0.094254  0.198934 -0.051359 -0.023962  0.117493  1.000000 -0.114698  0.009623\n",
      "power    0.448317  0.032715  0.412475  0.131125 -0.059803 -0.114698  1.000000  0.369221\n",
      "Price    0.570777  0.297255  0.474928  0.084689 -0.223997  0.009623  0.369221  1.000000\n"
     ]
    }
   ],
   "source": [
    "bi = BivariateAnalysis(cleaned_df)\n",
    "bi.correlation_matrix()"
   ]
  },
  {
   "cell_type": "code",
   "execution_count": 118,
   "id": "df601260",
   "metadata": {},
   "outputs": [
    {
     "name": "stdout",
     "output_type": "stream",
     "text": [
      "\n",
      "Covariance matrix:\n",
      "             Ratings           RAM            ROM      mblSize        priCam      selCam         power         Price\n",
      "Ratings     0.135299      0.083303       8.418013     0.115179     -0.444268   -0.155789  1.546193e+02  4.848295e+03\n",
      "RAM         0.083303      4.140797      36.840771     0.053756      4.107636    1.819029  6.241948e+01  1.396838e+04\n",
      "ROM         8.418013     36.840771    2901.828839    22.615119    -40.460039  -12.432057  2.083358e+04  5.907976e+05\n",
      "mblSize     0.115179      0.053756      22.615119    15.661083     -2.377674   -0.426103  4.865509e+02  7.739505e+03\n",
      "priCam     -0.444268      4.107636     -40.460039    -2.377674    124.454472    5.889855 -6.255511e+02 -5.770614e+04\n",
      "selCam     -0.155789      1.819029     -12.432057    -0.426103      5.889855   20.191814 -4.832509e+02  9.985323e+02\n",
      "power     154.619266     62.419478   20833.584501   486.550890   -625.551071 -483.250920  8.791478e+05  7.994526e+06\n",
      "Price    4848.294781  13968.375751  590797.550006  7739.505334 -57706.137606  998.532309  7.994526e+06  5.332746e+08\n"
     ]
    }
   ],
   "source": [
    "bi.covariance_matrix()"
   ]
  },
  {
   "cell_type": "code",
   "execution_count": 119,
   "id": "df6fdcbd",
   "metadata": {},
   "outputs": [
    {
     "name": "stdout",
     "output_type": "stream",
     "text": [
      "\n",
      "Mean of each feature grouped by 'RAM':\n",
      "       Ratings         ROM   mblSize     priCam    selCam        power         Price\n",
      "RAM                                                                                 \n",
      "1.0   3.890000   17.200000  4.644000  39.350000  7.050000  2970.000000   2517.750000\n",
      "2.0   4.242857   22.857143  5.857143  27.857143  4.857143  3831.904762   9007.904762\n",
      "3.0   4.200000   33.641026  5.868974  40.153846  5.051282  3701.025641  14840.487179\n",
      "4.0   4.215929   57.460177  5.439142  48.513274  8.000000  3350.132743  12262.725664\n",
      "5.0   3.900000   32.000000  4.540000  48.000000  8.000000  3000.000000   1024.000000\n",
      "6.0   3.992199   52.385343  5.632671  49.742317  9.567376  3048.782506   6513.680851\n",
      "8.0   4.349020  127.084967  5.958301  47.496732  9.562092  3738.888889  37358.686275\n",
      "10.0  3.928571   26.857143  5.045714  57.142857  6.714286  3214.285714  12016.285714\n",
      "12.0  4.244444   52.407407  4.768889  47.111111  9.777778  3225.185185  27846.444444\n"
     ]
    }
   ],
   "source": [
    "bi.group_mean_by_target('RAM')"
   ]
  },
  {
   "cell_type": "code",
   "execution_count": 120,
   "id": "2560a986",
   "metadata": {},
   "outputs": [
    {
     "name": "stdout",
     "output_type": "stream",
     "text": [
      "\n",
      "Count of entries grouped by 'RAM':\n",
      "      Ratings  ROM  mblSize  priCam  selCam  power  Price\n",
      "RAM                                                      \n",
      "1.0        20   20       20      20      20     20     20\n",
      "2.0        21   21       21      21      21     21     21\n",
      "3.0        39   39       39      39      39     39     39\n",
      "4.0       113  113      113     113     113    113    113\n",
      "5.0         4    4        4       4       4      4      4\n",
      "6.0       423  423      423     423     423    423    423\n",
      "8.0       153  153      153     153     153    153    153\n",
      "10.0        7    7        7       7       7      7      7\n",
      "12.0       27   27       27      27      27     27     27\n"
     ]
    }
   ],
   "source": [
    "bi.group_count_by_target('RAM')"
   ]
  },
  {
   "cell_type": "code",
   "execution_count": 121,
   "id": "bbc6b2bf",
   "metadata": {},
   "outputs": [
    {
     "name": "stdout",
     "output_type": "stream",
     "text": [
      "\n",
      "Crosstab between 'RAM' and 'ROM':\n",
      "ROM   2.0    3.0    4.0    8.0    10.0   12.0   15.0   16.0   20.0   22.0   24.0   25.0   32.0   35.0   40.0   51.0   56.0   64.0   128.0  256.0\n",
      "RAM                                                                                                                                             \n",
      "1.0       0      0      1      2      0      0      0     13      1      0      0      0      3      0      0      0      0      0      0      0\n",
      "2.0       0      0      0      0      0      0      0     12      0      0      0      0      9      0      0      0      0      0      0      0\n",
      "3.0       0      0      0      0      0      0      0      4      0      0      0      0     31      0      0      0      0      4      0      0\n",
      "4.0       1      3     24      0      0      0      0      0      1      1      2      0      5      0      3      0      0     52     21      0\n",
      "5.0       0      0      0      0      0      0      0      0      0      0      0      0      4      0      0      0      0      0      0      0\n",
      "6.0       0      0      0      0      0      0      0      0      1      0      4      2    250      3      0      0      0    109     54      0\n",
      "8.0       0      0      0      1      0      0      0      0      0      0      0      1      5      0      0      1      0     52     62     31\n",
      "10.0      0      0      0      0      1      0      0      0      0      0      0      2      4      0      0      0      0      0      0      0\n",
      "12.0      0      0      0      0      0      3      1      0      0      0      8      4      0      0      0      0      2      7      0      2\n"
     ]
    }
   ],
   "source": [
    "bi.crosstab_two_columns('RAM', 'ROM')"
   ]
  },
  {
   "cell_type": "markdown",
   "id": "b4aa1c87",
   "metadata": {},
   "source": [
    "## **_Univariate Visualizations_**\n",
    "*_A specialized class, UnivariatePlotter, is used to visualize single features. Common plots include:_*\n",
    "\n",
    "- *_Histograms – To show frequency distribution_*\n",
    "\n",
    "- *_Boxplots – To highlight data spread and outliers_*\n",
    "\n",
    "- *_KDE Plots – To view smooth distribution curves_*\n",
    "\n",
    "- *_Countplots – Especially useful for target variable like price_range_*\n"
   ]
  },
  {
   "cell_type": "code",
   "execution_count": 122,
   "id": "bd76d4ee",
   "metadata": {},
   "outputs": [],
   "source": [
    "class UnivariatePlots:\n",
    "    \"\"\"\n",
    "    Parameters:\n",
    "        df: pd.DataFrame - cleaned dataset\n",
    "\n",
    "    Functionality:\n",
    "        - Plots histogram for each numeric column\n",
    "        - Shows descriptive statistics\n",
    "    \"\"\"\n",
    "    def __init__(self, dataframe):\n",
    "        self.df = dataframe.copy()\n",
    "\n",
    "    def plot_histogram(self, column, figsize=(8, 4), bins=30, color='skyblue', edgecolor='black' ):\n",
    "        print(f\"\\nHistogram for '{column}'\")\n",
    "        plt.figure(figsize = figsize)\n",
    "        plt.hist(self.df[column], bins=bins, color = color, edgecolor=edgecolor)\n",
    "        plt.title(f'Histogram of {column}')\n",
    "        plt.xlabel(column)\n",
    "        plt.ylabel('Frequency')\n",
    "        plt.tight_layout()\n",
    "        plt.show()\n",
    "\n",
    "    def plot_boxplot(self, column, figsize=(6, 4),color='salmon'):\n",
    "        print(f\"\\nBoxplot for '{column}'\")\n",
    "        plt.figure(figsize = figsize)\n",
    "        sns.boxplot(y=self.df[column], color=color)\n",
    "        plt.title(f'Boxplot of {column}')\n",
    "        plt.tight_layout()\n",
    "        plt.show()\n",
    "\n",
    "    def plot_kde(self, column, figsize=(8, 4), shade=True, color='purple'):\n",
    "        print(f\"\\nKDE Plot for '{column}'\")\n",
    "        plt.figure(figsize = figsize)\n",
    "        sns.kdeplot(self.df[column], shade= shade, color= color)\n",
    "        plt.title(f'KDE (Density) Plot of {column}')\n",
    "        plt.xlabel(column)\n",
    "        plt.tight_layout()\n",
    "        plt.show()\n",
    "\n",
    "    def plot_countplot(self, column, figsize=(6, 4), palette='Set2'):\n",
    "        print(f\"\\nCountplot for '{column}'\")\n",
    "        plt.figure(figsize = figsize)\n",
    "        sns.countplot(x=self.df[column], palette=palette)\n",
    "        plt.title(f'Countplot of {column}')\n",
    "        plt.tight_layout()\n",
    "        plt.show()\n"
   ]
  },
  {
   "cell_type": "markdown",
   "id": "837cf58a",
   "metadata": {},
   "source": [
    "**_This histogram shows that_**\n",
    "\n",
    "- *_`6 GB RAM` is the most common in the dataset,_*\n",
    "- *_followed by `8 GB` and `4 GB`._*\n",
    "- *_Other RAM sizes appear much less frequently, indicating most phones have `6 GB RAM`._*"
   ]
  },
  {
   "cell_type": "code",
   "execution_count": 123,
   "id": "62cbf16d",
   "metadata": {},
   "outputs": [
    {
     "name": "stdout",
     "output_type": "stream",
     "text": [
      "\n",
      "Histogram for 'RAM'\n"
     ]
    },
    {
     "data": {
      "image/png": "[encoded data removed]",
      "text/plain": [
       "<Figure size 800x400 with 1 Axes>"
      ]
     },
     "metadata": {},
     "output_type": "display_data"
    }
   ],
   "source": [
    "uni_plot = UnivariatePlots(cleaned_df)\n",
    "\n",
    "uni_plot.plot_histogram('RAM')"
   ]
  },
  {
   "cell_type": "markdown",
   "id": "0a24b09f",
   "metadata": {},
   "source": [
    "**_This boxplot shows_**\n",
    "\n",
    "- *_most phones have `30–70 GB ROM`,_* \n",
    "- *_with a median around `50 GB`._*\n",
    "- *_A few phones with `128 GB` and `256 GB` are outliers._*"
   ]
  },
  {
   "cell_type": "code",
   "execution_count": 124,
   "id": "f297c5b2",
   "metadata": {},
   "outputs": [
    {
     "name": "stdout",
     "output_type": "stream",
     "text": [
      "\n",
      "Boxplot for 'ROM'\n"
     ]
    },
    {
     "data": {
      "image/png": "[encoded data removed]",
      "text/plain": [
       "<Figure size 600x400 with 1 Axes>"
      ]
     },
     "metadata": {},
     "output_type": "display_data"
    }
   ],
   "source": [
    "uni_plot.plot_boxplot('ROM')"
   ]
  },
  {
   "cell_type": "markdown",
   "id": "a485e49d",
   "metadata": {},
   "source": [
    "**_The KDE plot shows_**\n",
    "\n",
    "*_most phones are priced below `₹20,000`, with a sharp peak near the lower range and a long tail towards higher prices._*"
   ]
  },
  {
   "cell_type": "code",
   "execution_count": 125,
   "id": "e44698ee",
   "metadata": {},
   "outputs": [
    {
     "name": "stdout",
     "output_type": "stream",
     "text": [
      "\n",
      "KDE Plot for 'Price'\n"
     ]
    },
    {
     "data": {
      "image/png": "[encoded data removed]",
      "text/plain": [
       "<Figure size 800x400 with 1 Axes>"
      ]
     },
     "metadata": {},
     "output_type": "display_data"
    }
   ],
   "source": [
    "uni_plot.plot_kde('Price')"
   ]
  },
  {
   "cell_type": "markdown",
   "id": "1a333d1b",
   "metadata": {},
   "source": [
    "**_This countplot shows_**\n",
    "\n",
    "*_the frequency of different rating values. Most ratings are concentrated between `3.8` and `4.6`, with `4.5` being the most common. Lower ratings (below `3.4`) are much less frequent._*\n"
   ]
  },
  {
   "cell_type": "code",
   "execution_count": 126,
   "id": "2f9b42dd",
   "metadata": {},
   "outputs": [
    {
     "name": "stdout",
     "output_type": "stream",
     "text": [
      "\n",
      "Countplot for 'Ratings'\n"
     ]
    },
    {
     "data": {
      "image/png": "[encoded data removed]",
      "text/plain": [
       "<Figure size 600x400 with 1 Axes>"
      ]
     },
     "metadata": {},
     "output_type": "display_data"
    }
   ],
   "source": [
    "uni_plot.plot_countplot('Ratings')"
   ]
  },
  {
   "cell_type": "markdown",
   "id": "ccc0cfd6",
   "metadata": {},
   "source": [
    "## **_Bivariate Visualizations_**\n",
    "*_With the BivariatePlotter class, we explore relationships between two variables using:_*\n",
    "\n",
    "- *_Scatter plots – For pairs like battery power vs price_*\n",
    "\n",
    "- *_Heatmaps – For full correlation view_*\n",
    "\n",
    "- *_Boxplots by category – E.g., RAM across price ranges_*\n",
    "\n",
    "- *_Pairplots – All-vs-all scatter visualizations_*\n",
    "\n",
    "*_These help identify predictive relationships between features._*"
   ]
  },
  {
   "cell_type": "code",
   "execution_count": 127,
   "id": "07f73e16",
   "metadata": {},
   "outputs": [],
   "source": [
    "class BivariatePlots:\n",
    "    \"\"\"\n",
    "    Parameters:\n",
    "        df: pd.DataFrame - cleaned dataset\n",
    "\n",
    "    Functionality:\n",
    "        - Plots correlation heatmap\n",
    "        - Plots scatterplots between key pairs\n",
    "    \"\"\"\n",
    "    def __init__(self, dataframe):\n",
    "        self.df = dataframe.copy()\n",
    "\n",
    "    def scatter_plot(self, col1, col2, figsize=(8, 5), palette='coolwarm'):\n",
    "        print(f\"\\nScatter Plot: '{col1}' vs '{col2}'\")\n",
    "        plt.figure(figsize=figsize)\n",
    "        sns.scatterplot(x=self.df[col1], y=self.df[col2], hue=self.df['RAM'], palette=palette)\n",
    "        plt.title(f'Scatter Plot: {col1} vs {col2}')\n",
    "        plt.tight_layout()\n",
    "        plt.show()\n",
    "\n",
    "    def correlation_heatmap(self, figsize=(10, 8), annot=True, cmap='coolwarm', fmt=\".2f\", square=True):\n",
    "        print(\"\\nCorrelation Heatmap\")\n",
    "        plt.figure(figsize=figsize)\n",
    "        sns.heatmap(self.df.corr(), annot=annot, cmap=cmap, fmt=fmt, square=square)\n",
    "        plt.title(\"Correlation Heatmap\")\n",
    "        plt.tight_layout()\n",
    "        plt.show()\n",
    "\n",
    "    def boxplot_by_category(self, numerical_col, category_col='RAM',figsize=(7, 5), palette='pastel'):\n",
    "        print(f\"\\nBoxplot: '{numerical_col}' grouped by '{category_col}'\")\n",
    "        plt.figure(figsize=figsize)\n",
    "        sns.boxplot(x=self.df[category_col], y=self.df[numerical_col], palette=palette)\n",
    "        plt.title(f'Boxplot of {numerical_col} by {category_col}')\n",
    "        plt.tight_layout()\n",
    "        plt.show()\n",
    "\n",
    "    def pairplot(self, columns=None , hue='RAM', palette='husl'):\n",
    "        print(f\"\\nPairplot of selected features\")\n",
    "        if columns:\n",
    "            sns.pairplot(self.df[columns], hue=hue, palette=palette)\n",
    "        else:\n",
    "            sns.pairplot(self.df, hue=hue, palette=palette)\n",
    "        plt.tight_layout()\n",
    "        plt.show()"
   ]
  },
  {
   "cell_type": "markdown",
   "id": "2c202608",
   "metadata": {},
   "source": [
    "**_This scatter plot shows that_**\n",
    "\n",
    "*_phones with higher RAM (especially `8GB and 12GB`) tend to have higher prices._* \n",
    "\n",
    "*_Lower RAM options (`2GB–4GB`) are mostly found in lower price ranges._*\n"
   ]
  },
  {
   "cell_type": "code",
   "execution_count": 128,
   "id": "a8e3cc51",
   "metadata": {},
   "outputs": [
    {
     "name": "stdout",
     "output_type": "stream",
     "text": [
      "\n",
      "Scatter Plot: 'Price' vs 'RAM'\n"
     ]
    },
    {
     "data": {
      "image/png": "[encoded data removed]",
      "text/plain": [
       "<Figure size 800x500 with 1 Axes>"
      ]
     },
     "metadata": {},
     "output_type": "display_data"
    }
   ],
   "source": [
    "bi_plot = BivariatePlots(cleaned_df)\n",
    "\n",
    "bi_plot.scatter_plot('Price', 'RAM')"
   ]
  },
  {
   "cell_type": "markdown",
   "id": "0a47d184",
   "metadata": {},
   "source": [
    "**_This heatmap shows that_**\n",
    "\n",
    "- *_price has the strongest positive correlation with ratings (`0.57`), ROM (`0.47`), and power (`0.37`)._*\n",
    "- *_Primary camera has a weak negative correlation with price (`–0.22`)._* \n",
    "- *_Most other features have low or weak correlations._*\n"
   ]
  },
  {
   "cell_type": "code",
   "execution_count": 129,
   "id": "a301e694",
   "metadata": {},
   "outputs": [
    {
     "name": "stdout",
     "output_type": "stream",
     "text": [
      "\n",
      "Correlation Heatmap\n"
     ]
    },
    {
     "data": {
      "image/png": "[encoded data removed]",
      "text/plain": [
       "<Figure size 1000x800 with 2 Axes>"
      ]
     },
     "metadata": {},
     "output_type": "display_data"
    }
   ],
   "source": [
    "bi_plot.correlation_heatmap()"
   ]
  },
  {
   "cell_type": "markdown",
   "id": "c3353b8b",
   "metadata": {},
   "source": [
    "**_This boxplot shows_** \n",
    "\n",
    "- *_the distribution of product ratings across different RAM sizes._*\n",
    "\n",
    "- *_Each box represents the interquartile range (IQR), with the line inside indicating the median rating._* \n",
    "\n",
    "- *_Overall, ratings remain relatively high across all RAM sizes, with slight variations and some outliers present, especially for lower RAM values._*\n"
   ]
  },
  {
   "cell_type": "code",
   "execution_count": 130,
   "id": "de105bd0",
   "metadata": {},
   "outputs": [
    {
     "name": "stdout",
     "output_type": "stream",
     "text": [
      "\n",
      "Boxplot: 'Ratings' grouped by 'RAM'\n"
     ]
    },
    {
     "data": {
      "image/png": "[encoded data removed]",
      "text/plain": [
       "<Figure size 700x500 with 1 Axes>"
      ]
     },
     "metadata": {},
     "output_type": "display_data"
    }
   ],
   "source": [
    "bi_plot.boxplot_by_category('Ratings')"
   ]
  },
  {
   "cell_type": "markdown",
   "id": "a0467583",
   "metadata": {},
   "source": [
    "## **_Machine Learning Workflow_**\n",
    "*_We wrap the model training process in a class named ModelTrainer. It consists of:_*\n",
    "\n",
    "### **_Train-Test Splitting_**\n",
    "\n",
    "- *_Divides the dataset into training and testing sets_*\n",
    "\n",
    "### **_Model Training_**\n",
    "\n",
    "- *_Uses algorithms like RandomForestClassifier to predict price_range_*\n",
    "\n",
    "### **_Model Evaluation_**\n",
    "\n",
    "*_Uses performance metrics like:_*\n",
    "\n",
    "- *_Accuracy_*\n",
    "\n",
    "- *_Confusion Matrix_*\n",
    "\n",
    "- *_Classification Report_*\n",
    "\n",
    "### **_Making Predictions_**\n",
    "\n",
    "- *_Applies the trained model to predict price categories of mobile phones_*"
   ]
  },
  {
   "cell_type": "code",
   "execution_count": 133,
   "id": "1f99f611",
   "metadata": {},
   "outputs": [],
   "source": [
    "# 1. Data Splitting\n",
    "class DataSplitter:\n",
    "    \"\"\"\n",
    "    Parameters:\n",
    "        df: pd.DataFrame - cleaned dataset\n",
    "        target_column: str - label/target column\n",
    "\n",
    "    Functionality:\n",
    "        - Splits dataset into train/test sets\n",
    "\n",
    "    Returns:\n",
    "        - X_train, X_test, y_train, y_test\n",
    "    \"\"\"\n",
    "    def __init__(self, dataframe, target_column='Price', test_size=0.2, random_state=42):\n",
    "        self.df = dataframe\n",
    "        self.target = target_column\n",
    "        self.test_size = test_size\n",
    "        self.random_state = random_state\n",
    "\n",
    "    def split(self):\n",
    "        X = self.df.drop(columns=[self.target])\n",
    "        y = self.df[self.target]\n",
    "        X_train, X_test, y_train, y_test = train_test_split(\n",
    "            X, y, test_size=self.test_size, random_state=self.random_state\n",
    "        )\n",
    "        return X_train, X_test, y_train, y_test\n",
    "\n",
    "\n",
    "# 2. Model Training\n",
    "class ModelTrainer:\n",
    "    def __init__(self):\n",
    "        self.model = LogisticRegression(max_iter=1000)\n",
    "\n",
    "    def train_model(self, X_train, y_train):\n",
    "        self.model.fit(X_train, y_train)\n",
    "        return self.model\n",
    "\n",
    "\n",
    "# 3. Model Evaluation\n",
    "class ModelEvaluator:\n",
    "    def __init__(self, model):\n",
    "        self.model = model\n",
    "\n",
    "    def evaluate(self, X_test, y_test):\n",
    "        y_pred = self.model.predict(X_test)\n",
    "        acc = accuracy_score(y_test, y_pred)\n",
    "        cm = confusion_matrix(y_test, y_pred)\n",
    "        report = classification_report(y_test, y_pred)\n",
    "        return {\n",
    "            \"accuracy\": acc,\n",
    "            \"confusion_matrix\": cm,\n",
    "            \"classification_report\": report\n",
    "        }\n",
    "\n",
    "\n",
    "# 4. Model Prediction\n",
    "class ModelPredictor:\n",
    "    def __init__(self, model):\n",
    "        self.model = model\n",
    "\n",
    "    def predict(self, new_data_df):\n",
    "        return self.model.predict(new_data_df)\n",
    "\n",
    "\n",
    "class InputHandler:\n",
    "    \"\"\"\n",
    "    Takes user dictionary input and formats it\n",
    "    to match model’s expected feature columns.\n",
    "    \"\"\"\n",
    "    def __init__(self, feature_columns):\n",
    "        self.feature_columns = feature_columns\n",
    "\n",
    "    def prepare_input(self, user_input_dict):\n",
    "        cleaned_input = {key: val for key, val in user_input_dict.items() if key in self.feature_columns}\n",
    "        input_df = pd.DataFrame([cleaned_input])\n",
    "        input_df = input_df.reindex(columns=self.feature_columns).fillna(0)  # Fill missing values with 0\n",
    "        return input_df\n"
   ]
  },
  {
   "cell_type": "code",
   "execution_count": null,
   "id": "47f3e61b",
   "metadata": {},
   "outputs": [
    {
     "name": "stdout",
     "output_type": "stream",
     "text": [
      "Model expects columns: ['Ratings', 'RAM', 'ROM', 'mblSize', 'priCam', 'selCam', 'power']\n",
      "Accuracy: 0.06172839506172839\n",
      "Confusion Matrix:\n",
      " [[0 0 0 ... 0 0 0]\n",
      " [0 0 0 ... 0 0 0]\n",
      " [0 0 0 ... 0 0 0]\n",
      " ...\n",
      " [0 0 0 ... 0 1 0]\n",
      " [0 0 0 ... 0 0 0]\n",
      " [0 0 0 ... 0 0 0]]\n",
      "Classification Report:\n",
      "               precision    recall  f1-score   support\n",
      "\n",
      "         599       0.00      0.00      0.00         3\n",
      "         629       0.00      0.00      0.00         2\n",
      "         639       0.00      0.00      0.00         1\n",
      "         649       0.00      0.00      0.00         5\n",
      "         699       0.00      0.00      0.00         3\n",
      "         749       0.00      0.00      0.00         1\n",
      "         798       0.00      0.00      0.00         0\n",
      "         799       0.00      0.00      0.00         4\n",
      "         849       0.00      0.00      0.00         1\n",
      "         869       0.00      0.00      0.00         1\n",
      "         899       0.00      0.00      0.00         1\n",
      "         900       0.00      0.00      0.00         1\n",
      "         927       0.00      0.00      0.00         2\n",
      "         930       0.00      0.00      0.00         2\n",
      "         935       0.00      0.00      0.00         1\n",
      "         945       0.00      0.00      0.00         1\n",
      "         949       0.33      0.33      0.33         3\n",
      "         970       0.50      1.00      0.67         1\n",
      "         980       0.00      0.00      0.00         1\n",
      "         982       0.00      0.00      0.00         1\n",
      "         984       0.00      0.00      0.00         1\n",
      "         985       0.00      0.00      0.00         2\n",
      "         990       0.00      0.00      0.00         1\n",
      "         999       0.00      0.00      0.00         1\n",
      "        1049       0.00      0.00      0.00         3\n",
      "        1089       0.00      0.00      0.00         1\n",
      "        1099       0.00      0.00      0.00         4\n",
      "        1110       0.00      0.00      0.00         1\n",
      "        1149       0.00      0.00      0.00         0\n",
      "        1199       0.12      0.50      0.20         2\n",
      "        1240       0.00      0.00      0.00         1\n",
      "        1275       0.00      0.00      0.00         1\n",
      "        1280       0.00      0.00      0.00         1\n",
      "        1299       0.00      0.00      0.00         3\n",
      "        1349       0.14      1.00      0.25         1\n",
      "        1390       0.00      0.00      0.00         1\n",
      "        1399       0.00      0.00      0.00         3\n",
      "        1499       0.00      0.00      0.00         3\n",
      "        1500       0.00      0.00      0.00         1\n",
      "        1549       0.00      0.00      0.00         1\n",
      "        1575       0.00      0.00      0.00         1\n",
      "        1579       0.00      0.00      0.00         0\n",
      "        1599       0.00      0.00      0.00         1\n",
      "        1690       0.00      0.00      0.00         1\n",
      "        1695       0.00      0.00      0.00         2\n",
      "        1699       0.00      0.00      0.00         1\n",
      "        1799       0.00      0.00      0.00         2\n",
      "        2135       0.00      0.00      0.00         2\n",
      "        2299       0.00      0.00      0.00         1\n",
      "        2450       0.00      0.00      0.00         1\n",
      "        2599       0.00      0.00      0.00         1\n",
      "        3000       0.00      0.00      0.00         2\n",
      "        3149       0.00      0.00      0.00         2\n",
      "        3580       0.00      0.00      0.00         0\n",
      "        3999       0.00      0.00      0.00         4\n",
      "        7490       0.00      0.00      0.00         1\n",
      "        7999       0.00      0.00      0.00         1\n",
      "        8798       0.00      0.00      0.00         1\n",
      "        8990       0.00      0.00      0.00         1\n",
      "        9350       0.33      1.00      0.50         1\n",
      "        9790       0.00      0.00      0.00         0\n",
      "        9989       0.00      0.00      0.00         1\n",
      "        9990       0.00      0.00      0.00         1\n",
      "        9998       0.00      0.00      0.00         1\n",
      "        9999       0.00      0.00      0.00         2\n",
      "       10990       0.00      0.00      0.00         0\n",
      "       11999       0.00      0.00      0.00         1\n",
      "       12900       0.00      0.00      0.00         0\n",
      "       13950       0.00      0.00      0.00         1\n",
      "       13999       0.00      0.00      0.00         2\n",
      "       14990       0.00      0.00      0.00         1\n",
      "       15000       0.00      0.00      0.00         1\n",
      "       15656       0.00      0.00      0.00         1\n",
      "       15899       0.00      0.00      0.00         1\n",
      "       15999       0.00      0.00      0.00         1\n",
      "       16490       0.00      0.00      0.00         1\n",
      "       16675       0.00      0.00      0.00         1\n",
      "       16990       0.00      0.00      0.00         2\n",
      "       16999       0.00      0.00      0.00         2\n",
      "       17990       0.00      0.00      0.00         1\n",
      "       17999       0.00      0.00      0.00         1\n",
      "       18099       0.00      0.00      0.00         1\n",
      "       18499       0.50      1.00      0.67         1\n",
      "       18570       0.00      0.00      0.00         1\n",
      "       18989       0.00      0.00      0.00         1\n",
      "       18999       0.00      0.00      0.00         4\n",
      "       19990       0.00      0.00      0.00         1\n",
      "       19999       0.00      0.00      0.00         1\n",
      "       21499       0.00      0.00      0.00         1\n",
      "       21999       0.00      0.00      0.00         2\n",
      "       22221       0.00      0.00      0.00         1\n",
      "       22999       0.17      0.50      0.25         2\n",
      "       24990       0.00      0.00      0.00         1\n",
      "       24999       0.00      0.00      0.00         1\n",
      "       29990       0.00      0.00      0.00         3\n",
      "       29999       0.00      0.00      0.00         0\n",
      "       30999       0.00      0.00      0.00         2\n",
      "       31590       0.00      0.00      0.00         1\n",
      "       31990       0.00      0.00      0.00         3\n",
      "       31999       0.00      0.00      0.00         0\n",
      "       32999       0.00      0.00      0.00         1\n",
      "       34990       0.00      0.00      0.00         1\n",
      "       36999       0.00      0.00      0.00         1\n",
      "       38990       0.00      0.00      0.00         1\n",
      "       39999       0.00      0.00      0.00         0\n",
      "       41990       0.00      0.00      0.00         1\n",
      "       42990       0.00      0.00      0.00         1\n",
      "       42998       0.00      0.00      0.00         1\n",
      "       42999       0.00      0.00      0.00         1\n",
      "       44990       0.00      0.00      0.00         0\n",
      "       47999       0.50      1.00      0.67         2\n",
      "       53990       0.00      0.00      0.00         1\n",
      "       54990       0.00      0.00      0.00         1\n",
      "       56999       0.00      0.00      0.00         2\n",
      "       59000       0.00      0.00      0.00         1\n",
      "       68300       0.00      0.00      0.00         1\n",
      "       77999       1.00      1.00      1.00         1\n",
      "      106600       0.00      0.00      0.00         2\n",
      "      112450       0.00      0.00      0.00         1\n",
      "      117100       0.00      0.00      0.00         0\n",
      "      140300       0.00      0.00      0.00         0\n",
      "\n",
      "    accuracy                           0.06       162\n",
      "   macro avg       0.03      0.06      0.04       162\n",
      "weighted avg       0.03      0.06      0.04       162\n",
      "\n",
      "Prediction on sample row: [649]\n",
      "📱 Predicted Price Category: 24999\n"
     ]
    }
   ],
   "source": [
    "# Step 0: Cleaned dataset and target setup\n",
    "target_column = 'Price'\n",
    "splitter = DataSplitter(cleaned_df, target_column=target_column)\n",
    "X_train, X_test, y_train, y_test = splitter.split()\n",
    "\n",
    "print(\"Model expects columns:\", X_train.columns.tolist())\n",
    "\n",
    "# Step 1: Train\n",
    "trainer = ModelTrainer()\n",
    "model = trainer.train_model(X_train, y_train)\n",
    "\n",
    "# Step 2: Evaluate\n",
    "evaluator = ModelEvaluator(model)\n",
    "results = evaluator.evaluate(X_test, y_test)\n",
    "print(\"Accuracy:\", results[\"accuracy\"])\n",
    "print(\"Confusion Matrix:\\n\", results[\"confusion_matrix\"])\n",
    "print(\"Classification Report:\\n\", results[\"classification_report\"])\n",
    "\n",
    "# Step 3: Predict sample\n",
    "predictor = ModelPredictor(model)\n",
    "sample = X_test.sample(1)\n",
    "print(\"Prediction on sample row:\", predictor.predict(sample))\n",
    "\n",
    "# Step 4: User input to predict Price\n",
    "user_input = {\n",
    "    'Ratings': 4.5,\n",
    "    'ROM': 128.0,\n",
    "    'mblSize': 6.5,\n",
    "    'priCam': 64,\n",
    "    'selCam': 32,\n",
    "    'power': 4500\n",
    "}\n",
    "\n",
    "input_handler = InputHandler(X_train.columns)\n",
    "formatted_input_df = input_handler.prepare_input(user_input)\n",
    "\n",
    "# Step 5: Predict\n",
    "user_prediction = model.predict(formatted_input_df)\n",
    "print(\"Predicted Price Category:\", user_prediction[0])"
   ]
  },
  {
   "cell_type": "markdown",
   "id": "3c42d510",
   "metadata": {},
   "source": [
    "## **_Saving and Loading Trained Model with Pickle_**\n",
    "*_We use the `Pickle` library to save the trained Ml Model into `.pkl` file. This allows us to reuse the model without retraining._*\n",
    "\n",
    "### **_Why we use Pickle?_**\n",
    "- *_Avoids retraining_*\n",
    "- *_Good for development_*\n",
    "- *_Makes model portable_*\n",
    "  \n",
    "*_The `PickleHandler` class has method to save and load the model_*"
   ]
  },
  {
   "cell_type": "code",
   "execution_count": null,
   "id": "33ec5880",
   "metadata": {},
   "outputs": [],
   "source": [
    "class PickleHandler:\n",
    "    \"\"\"\n",
    "    A class to save and load machine learning models using pickle.\n",
    "    \n",
    "    Parameters:\n",
    "    -----------\n",
    "    model : object, optional\n",
    "        Trained model object (e.g., LinearRegression, DecisionTree, etc.)\n",
    "    \n",
    "    Methods:\n",
    "    --------\n",
    "    save_model(filename):\n",
    "        Saves the model to a specified .pkl file.\n",
    "    \n",
    "    load_model(filename):\n",
    "        Loads and returns the model from a specified .pkl file.\n",
    "    \"\"\"\n",
    "    def __init__(self, model=None):\n",
    "        self.model = model\n",
    "\n",
    "    def save(self, filename='mobile_price_model.pkl'):\n",
    "        with open(filename, 'wb') as f:\n",
    "            pickle.dump(self.model, f)\n",
    "        return f\"Model saved as {filename}\"\n",
    "\n",
    "    def load(self, filename='mobile_price_model.pkl'):\n",
    "        with open(filename, 'rb') as f:\n",
    "            self.model = pickle.load(f)\n",
    "        return self.model"
   ]
  },
  {
   "cell_type": "code",
   "execution_count": null,
   "id": "ef543ad6",
   "metadata": {},
   "outputs": [
    {
     "name": "stdout",
     "output_type": "stream",
     "text": [
      "Model saved as mobile_price_model.pkl\n"
     ]
    }
   ],
   "source": [
    "saver = PickleHandler(model)\n",
    "print(saver.save())\n",
    "\n",
    "# Optional: To load later\n",
    "loaded_model = saver.load()"
   ]
  }
 ],
 "metadata": {
  "kernelspec": {
   "display_name": "base",
   "language": "python",
   "name": "python3"
  },
  "language_info": {
   "codemirror_mode": {
    "name": "ipython",
    "version": 3
   },
   "file_extension": ".py",
   "mimetype": "text/x-python",
   "name": "python",
   "nbconvert_exporter": "python",
   "pygments_lexer": "ipython3",
   "version": "3.12.7"
  }
 },
 "nbformat": 4,
 "nbformat_minor": 5
}
